{
 "cells": [
  {
   "cell_type": "code",
   "execution_count": 1,
   "id": "da29581f-da56-4f1b-a1f9-08317986c4c2",
   "metadata": {},
   "outputs": [
    {
     "name": "stdout",
     "output_type": "stream",
     "text": [
      "Requirement already satisfied: langchain-community==0.2.4 in c:\\users\\othma\\anaconda3\\envs\\venv1\\lib\\site-packages (0.2.4)\n",
      "Requirement already satisfied: langchain==0.2.3 in c:\\users\\othma\\anaconda3\\envs\\venv1\\lib\\site-packages (0.2.3)\n",
      "Requirement already satisfied: faiss-cpu==1.8.0 in c:\\users\\othma\\anaconda3\\envs\\venv1\\lib\\site-packages (1.8.0)\n",
      "Requirement already satisfied: unstructured==0.14.5 in c:\\users\\othma\\anaconda3\\envs\\venv1\\lib\\site-packages (0.14.5)\n",
      "Requirement already satisfied: transformers==4.41.2 in c:\\users\\othma\\anaconda3\\envs\\venv1\\lib\\site-packages (4.41.2)\n",
      "Requirement already satisfied: sentence-transformers==3.0.1 in c:\\users\\othma\\anaconda3\\envs\\venv1\\lib\\site-packages (3.0.1)\n",
      "Requirement already satisfied: PyYAML>=5.3 in c:\\users\\othma\\anaconda3\\envs\\venv1\\lib\\site-packages (from langchain-community==0.2.4) (6.0.1)\n",
      "Requirement already satisfied: SQLAlchemy<3,>=1.4 in c:\\users\\othma\\anaconda3\\envs\\venv1\\lib\\site-packages (from langchain-community==0.2.4) (2.0.32)\n",
      "Requirement already satisfied: aiohttp<4.0.0,>=3.8.3 in c:\\users\\othma\\anaconda3\\envs\\venv1\\lib\\site-packages (from langchain-community==0.2.4) (3.10.2)\n",
      "Requirement already satisfied: dataclasses-json<0.7,>=0.5.7 in c:\\users\\othma\\anaconda3\\envs\\venv1\\lib\\site-packages (from langchain-community==0.2.4) (0.6.7)\n",
      "Requirement already satisfied: langchain-core<0.3.0,>=0.2.0 in c:\\users\\othma\\anaconda3\\envs\\venv1\\lib\\site-packages (from langchain-community==0.2.4) (0.2.29)\n",
      "Requirement already satisfied: langsmith<0.2.0,>=0.1.0 in c:\\users\\othma\\anaconda3\\envs\\venv1\\lib\\site-packages (from langchain-community==0.2.4) (0.1.98)\n",
      "Requirement already satisfied: numpy<2,>=1 in c:\\users\\othma\\anaconda3\\envs\\venv1\\lib\\site-packages (from langchain-community==0.2.4) (1.26.4)\n",
      "Requirement already satisfied: requests<3,>=2 in c:\\users\\othma\\anaconda3\\envs\\venv1\\lib\\site-packages (from langchain-community==0.2.4) (2.32.3)\n",
      "Requirement already satisfied: tenacity<9.0.0,>=8.1.0 in c:\\users\\othma\\anaconda3\\envs\\venv1\\lib\\site-packages (from langchain-community==0.2.4) (8.5.0)\n",
      "Requirement already satisfied: langchain-text-splitters<0.3.0,>=0.2.0 in c:\\users\\othma\\anaconda3\\envs\\venv1\\lib\\site-packages (from langchain==0.2.3) (0.2.2)\n",
      "Requirement already satisfied: pydantic<3,>=1 in c:\\users\\othma\\anaconda3\\envs\\venv1\\lib\\site-packages (from langchain==0.2.3) (2.8.2)\n",
      "Requirement already satisfied: chardet in c:\\users\\othma\\anaconda3\\envs\\venv1\\lib\\site-packages (from unstructured==0.14.5) (5.2.0)\n",
      "Requirement already satisfied: filetype in c:\\users\\othma\\anaconda3\\envs\\venv1\\lib\\site-packages (from unstructured==0.14.5) (1.2.0)\n",
      "Requirement already satisfied: python-magic in c:\\users\\othma\\anaconda3\\envs\\venv1\\lib\\site-packages (from unstructured==0.14.5) (0.4.27)\n",
      "Requirement already satisfied: lxml in c:\\users\\othma\\anaconda3\\envs\\venv1\\lib\\site-packages (from unstructured==0.14.5) (5.2.2)\n",
      "Requirement already satisfied: nltk in c:\\users\\othma\\anaconda3\\envs\\venv1\\lib\\site-packages (from unstructured==0.14.5) (3.8)\n",
      "Requirement already satisfied: tabulate in c:\\users\\othma\\anaconda3\\envs\\venv1\\lib\\site-packages (from unstructured==0.14.5) (0.9.0)\n",
      "Requirement already satisfied: beautifulsoup4 in c:\\users\\othma\\anaconda3\\envs\\venv1\\lib\\site-packages (from unstructured==0.14.5) (4.12.3)\n",
      "Requirement already satisfied: emoji in c:\\users\\othma\\anaconda3\\envs\\venv1\\lib\\site-packages (from unstructured==0.14.5) (2.12.1)\n",
      "Requirement already satisfied: python-iso639 in c:\\users\\othma\\anaconda3\\envs\\venv1\\lib\\site-packages (from unstructured==0.14.5) (2024.4.27)\n",
      "Requirement already satisfied: langdetect in c:\\users\\othma\\anaconda3\\envs\\venv1\\lib\\site-packages (from unstructured==0.14.5) (1.0.9)\n",
      "Requirement already satisfied: rapidfuzz in c:\\users\\othma\\anaconda3\\envs\\venv1\\lib\\site-packages (from unstructured==0.14.5) (3.9.6)\n",
      "Requirement already satisfied: backoff in c:\\users\\othma\\anaconda3\\envs\\venv1\\lib\\site-packages (from unstructured==0.14.5) (2.2.1)\n",
      "Requirement already satisfied: typing-extensions in c:\\users\\othma\\anaconda3\\envs\\venv1\\lib\\site-packages (from unstructured==0.14.5) (4.11.0)\n",
      "Requirement already satisfied: unstructured-client in c:\\users\\othma\\anaconda3\\envs\\venv1\\lib\\site-packages (from unstructured==0.14.5) (0.25.4)\n",
      "Requirement already satisfied: wrapt in c:\\users\\othma\\anaconda3\\envs\\venv1\\lib\\site-packages (from unstructured==0.14.5) (1.16.0)\n",
      "Requirement already satisfied: filelock in c:\\users\\othma\\anaconda3\\envs\\venv1\\lib\\site-packages (from transformers==4.41.2) (3.15.4)\n",
      "Requirement already satisfied: huggingface-hub<1.0,>=0.23.0 in c:\\users\\othma\\anaconda3\\envs\\venv1\\lib\\site-packages (from transformers==4.41.2) (0.24.5)\n",
      "Requirement already satisfied: packaging>=20.0 in c:\\users\\othma\\anaconda3\\envs\\venv1\\lib\\site-packages (from transformers==4.41.2) (24.1)\n",
      "Requirement already satisfied: regex!=2019.12.17 in c:\\users\\othma\\anaconda3\\envs\\venv1\\lib\\site-packages (from transformers==4.41.2) (2024.7.24)\n",
      "Requirement already satisfied: tokenizers<0.20,>=0.19 in c:\\users\\othma\\anaconda3\\envs\\venv1\\lib\\site-packages (from transformers==4.41.2) (0.19.1)\n",
      "Requirement already satisfied: safetensors>=0.4.1 in c:\\users\\othma\\anaconda3\\envs\\venv1\\lib\\site-packages (from transformers==4.41.2) (0.4.4)\n",
      "Requirement already satisfied: tqdm>=4.27 in c:\\users\\othma\\anaconda3\\envs\\venv1\\lib\\site-packages (from transformers==4.41.2) (4.66.5)\n",
      "Requirement already satisfied: torch>=1.11.0 in c:\\users\\othma\\anaconda3\\envs\\venv1\\lib\\site-packages (from sentence-transformers==3.0.1) (2.4.0)\n",
      "Requirement already satisfied: scikit-learn in c:\\users\\othma\\anaconda3\\envs\\venv1\\lib\\site-packages (from sentence-transformers==3.0.1) (1.5.1)\n",
      "Requirement already satisfied: scipy in c:\\users\\othma\\anaconda3\\envs\\venv1\\lib\\site-packages (from sentence-transformers==3.0.1) (1.14.0)\n",
      "Requirement already satisfied: Pillow in c:\\users\\othma\\anaconda3\\envs\\venv1\\lib\\site-packages (from sentence-transformers==3.0.1) (10.4.0)\n",
      "Requirement already satisfied: onnx in c:\\users\\othma\\anaconda3\\envs\\venv1\\lib\\site-packages (from unstructured[pdf]==0.14.5) (1.16.2)\n",
      "Requirement already satisfied: pdf2image in c:\\users\\othma\\anaconda3\\envs\\venv1\\lib\\site-packages (from unstructured[pdf]==0.14.5) (1.17.0)\n",
      "Requirement already satisfied: pdfminer.six in c:\\users\\othma\\anaconda3\\envs\\venv1\\lib\\site-packages (from unstructured[pdf]==0.14.5) (20231228)\n",
      "Requirement already satisfied: pikepdf in c:\\users\\othma\\anaconda3\\envs\\venv1\\lib\\site-packages (from unstructured[pdf]==0.14.5) (9.1.1)\n",
      "Requirement already satisfied: pillow-heif in c:\\users\\othma\\anaconda3\\envs\\venv1\\lib\\site-packages (from unstructured[pdf]==0.14.5) (0.18.0)\n",
      "Requirement already satisfied: pypdf in c:\\users\\othma\\anaconda3\\envs\\venv1\\lib\\site-packages (from unstructured[pdf]==0.14.5) (4.3.1)\n",
      "Requirement already satisfied: pytesseract in c:\\users\\othma\\anaconda3\\envs\\venv1\\lib\\site-packages (from unstructured[pdf]==0.14.5) (0.3.10)\n",
      "Requirement already satisfied: google-cloud-vision in c:\\users\\othma\\anaconda3\\envs\\venv1\\lib\\site-packages (from unstructured[pdf]==0.14.5) (3.7.4)\n",
      "Requirement already satisfied: effdet in c:\\users\\othma\\anaconda3\\envs\\venv1\\lib\\site-packages (from unstructured[pdf]==0.14.5) (0.4.1)\n",
      "Requirement already satisfied: unstructured-inference==0.7.33 in c:\\users\\othma\\anaconda3\\envs\\venv1\\lib\\site-packages (from unstructured[pdf]==0.14.5) (0.7.33)\n",
      "Requirement already satisfied: unstructured.pytesseract>=0.3.12 in c:\\users\\othma\\anaconda3\\envs\\venv1\\lib\\site-packages (from unstructured[pdf]==0.14.5) (0.3.12)\n",
      "Requirement already satisfied: layoutparser in c:\\users\\othma\\anaconda3\\envs\\venv1\\lib\\site-packages (from unstructured-inference==0.7.33->unstructured[pdf]==0.14.5) (0.3.4)\n",
      "Requirement already satisfied: python-multipart in c:\\users\\othma\\anaconda3\\envs\\venv1\\lib\\site-packages (from unstructured-inference==0.7.33->unstructured[pdf]==0.14.5) (0.0.9)\n",
      "Requirement already satisfied: opencv-python!=4.7.0.68 in c:\\users\\othma\\anaconda3\\envs\\venv1\\lib\\site-packages (from unstructured-inference==0.7.33->unstructured[pdf]==0.14.5) (4.10.0.84)\n",
      "Requirement already satisfied: onnxruntime>=1.17.0 in c:\\users\\othma\\anaconda3\\envs\\venv1\\lib\\site-packages (from unstructured-inference==0.7.33->unstructured[pdf]==0.14.5) (1.18.1)\n",
      "Requirement already satisfied: matplotlib in c:\\users\\othma\\anaconda3\\envs\\venv1\\lib\\site-packages (from unstructured-inference==0.7.33->unstructured[pdf]==0.14.5) (3.9.1.post1)\n",
      "Requirement already satisfied: timm in c:\\users\\othma\\anaconda3\\envs\\venv1\\lib\\site-packages (from unstructured-inference==0.7.33->unstructured[pdf]==0.14.5) (1.0.8)\n",
      "Requirement already satisfied: aiohappyeyeballs>=2.3.0 in c:\\users\\othma\\anaconda3\\envs\\venv1\\lib\\site-packages (from aiohttp<4.0.0,>=3.8.3->langchain-community==0.2.4) (2.3.5)\n",
      "Requirement already satisfied: aiosignal>=1.1.2 in c:\\users\\othma\\anaconda3\\envs\\venv1\\lib\\site-packages (from aiohttp<4.0.0,>=3.8.3->langchain-community==0.2.4) (1.3.1)\n",
      "Requirement already satisfied: attrs>=17.3.0 in c:\\users\\othma\\anaconda3\\envs\\venv1\\lib\\site-packages (from aiohttp<4.0.0,>=3.8.3->langchain-community==0.2.4) (23.1.0)\n",
      "Requirement already satisfied: frozenlist>=1.1.1 in c:\\users\\othma\\anaconda3\\envs\\venv1\\lib\\site-packages (from aiohttp<4.0.0,>=3.8.3->langchain-community==0.2.4) (1.4.1)\n",
      "Requirement already satisfied: multidict<7.0,>=4.5 in c:\\users\\othma\\anaconda3\\envs\\venv1\\lib\\site-packages (from aiohttp<4.0.0,>=3.8.3->langchain-community==0.2.4) (6.0.5)\n",
      "Requirement already satisfied: yarl<2.0,>=1.0 in c:\\users\\othma\\anaconda3\\envs\\venv1\\lib\\site-packages (from aiohttp<4.0.0,>=3.8.3->langchain-community==0.2.4) (1.9.4)\n",
      "Requirement already satisfied: marshmallow<4.0.0,>=3.18.0 in c:\\users\\othma\\anaconda3\\envs\\venv1\\lib\\site-packages (from dataclasses-json<0.7,>=0.5.7->langchain-community==0.2.4) (3.21.3)\n",
      "Requirement already satisfied: typing-inspect<1,>=0.4.0 in c:\\users\\othma\\anaconda3\\envs\\venv1\\lib\\site-packages (from dataclasses-json<0.7,>=0.5.7->langchain-community==0.2.4) (0.9.0)\n",
      "Requirement already satisfied: fsspec>=2023.5.0 in c:\\users\\othma\\anaconda3\\envs\\venv1\\lib\\site-packages (from huggingface-hub<1.0,>=0.23.0->transformers==4.41.2) (2024.6.1)\n",
      "Requirement already satisfied: jsonpatch<2.0,>=1.33 in c:\\users\\othma\\anaconda3\\envs\\venv1\\lib\\site-packages (from langchain-core<0.3.0,>=0.2.0->langchain-community==0.2.4) (1.33)\n",
      "Requirement already satisfied: orjson<4.0.0,>=3.9.14 in c:\\users\\othma\\anaconda3\\envs\\venv1\\lib\\site-packages (from langsmith<0.2.0,>=0.1.0->langchain-community==0.2.4) (3.10.7)\n",
      "Requirement already satisfied: annotated-types>=0.4.0 in c:\\users\\othma\\anaconda3\\envs\\venv1\\lib\\site-packages (from pydantic<3,>=1->langchain==0.2.3) (0.7.0)\n",
      "Requirement already satisfied: pydantic-core==2.20.1 in c:\\users\\othma\\anaconda3\\envs\\venv1\\lib\\site-packages (from pydantic<3,>=1->langchain==0.2.3) (2.20.1)\n",
      "Requirement already satisfied: charset-normalizer<4,>=2 in c:\\users\\othma\\anaconda3\\envs\\venv1\\lib\\site-packages (from requests<3,>=2->langchain-community==0.2.4) (3.3.2)\n",
      "Requirement already satisfied: idna<4,>=2.5 in c:\\users\\othma\\anaconda3\\envs\\venv1\\lib\\site-packages (from requests<3,>=2->langchain-community==0.2.4) (3.7)\n",
      "Requirement already satisfied: urllib3<3,>=1.21.1 in c:\\users\\othma\\anaconda3\\envs\\venv1\\lib\\site-packages (from requests<3,>=2->langchain-community==0.2.4) (2.2.2)\n",
      "Requirement already satisfied: certifi>=2017.4.17 in c:\\users\\othma\\anaconda3\\envs\\venv1\\lib\\site-packages (from requests<3,>=2->langchain-community==0.2.4) (2024.7.4)\n",
      "Requirement already satisfied: greenlet!=0.4.17 in c:\\users\\othma\\anaconda3\\envs\\venv1\\lib\\site-packages (from SQLAlchemy<3,>=1.4->langchain-community==0.2.4) (3.0.3)\n",
      "Requirement already satisfied: sympy in c:\\users\\othma\\anaconda3\\envs\\venv1\\lib\\site-packages (from torch>=1.11.0->sentence-transformers==3.0.1) (1.13.1)\n",
      "Requirement already satisfied: networkx in c:\\users\\othma\\anaconda3\\envs\\venv1\\lib\\site-packages (from torch>=1.11.0->sentence-transformers==3.0.1) (3.3)\n",
      "Requirement already satisfied: jinja2 in c:\\users\\othma\\anaconda3\\envs\\venv1\\lib\\site-packages (from torch>=1.11.0->sentence-transformers==3.0.1) (3.1.4)\n",
      "Requirement already satisfied: setuptools in c:\\users\\othma\\anaconda3\\envs\\venv1\\lib\\site-packages (from torch>=1.11.0->sentence-transformers==3.0.1) (72.1.0)\n",
      "Requirement already satisfied: colorama in c:\\users\\othma\\anaconda3\\envs\\venv1\\lib\\site-packages (from tqdm>=4.27->transformers==4.41.2) (0.4.6)\n",
      "Requirement already satisfied: soupsieve>1.2 in c:\\users\\othma\\anaconda3\\envs\\venv1\\lib\\site-packages (from beautifulsoup4->unstructured==0.14.5) (2.5)\n",
      "Requirement already satisfied: torchvision in c:\\users\\othma\\anaconda3\\envs\\venv1\\lib\\site-packages (from effdet->unstructured[pdf]==0.14.5) (0.19.0)\n",
      "Requirement already satisfied: pycocotools>=2.0.2 in c:\\users\\othma\\anaconda3\\envs\\venv1\\lib\\site-packages (from effdet->unstructured[pdf]==0.14.5) (2.0.8)\n",
      "Requirement already satisfied: omegaconf>=2.0 in c:\\users\\othma\\anaconda3\\envs\\venv1\\lib\\site-packages (from effdet->unstructured[pdf]==0.14.5) (2.3.0)\n",
      "Requirement already satisfied: google-api-core!=2.0.*,!=2.1.*,!=2.10.*,!=2.2.*,!=2.3.*,!=2.4.*,!=2.5.*,!=2.6.*,!=2.7.*,!=2.8.*,!=2.9.*,<3.0.0dev,>=1.34.1 in c:\\users\\othma\\anaconda3\\envs\\venv1\\lib\\site-packages (from google-api-core[grpc]!=2.0.*,!=2.1.*,!=2.10.*,!=2.2.*,!=2.3.*,!=2.4.*,!=2.5.*,!=2.6.*,!=2.7.*,!=2.8.*,!=2.9.*,<3.0.0dev,>=1.34.1->google-cloud-vision->unstructured[pdf]==0.14.5) (2.19.1)\n",
      "Requirement already satisfied: google-auth!=2.24.0,!=2.25.0,<3.0.0dev,>=2.14.1 in c:\\users\\othma\\anaconda3\\envs\\venv1\\lib\\site-packages (from google-cloud-vision->unstructured[pdf]==0.14.5) (2.33.0)\n",
      "Requirement already satisfied: proto-plus<2.0.0dev,>=1.22.3 in c:\\users\\othma\\anaconda3\\envs\\venv1\\lib\\site-packages (from google-cloud-vision->unstructured[pdf]==0.14.5) (1.24.0)\n",
      "Requirement already satisfied: protobuf!=4.21.0,!=4.21.1,!=4.21.2,!=4.21.3,!=4.21.4,!=4.21.5,<6.0.0dev,>=3.20.2 in c:\\users\\othma\\anaconda3\\envs\\venv1\\lib\\site-packages (from google-cloud-vision->unstructured[pdf]==0.14.5) (5.27.3)\n",
      "Requirement already satisfied: six in c:\\users\\othma\\anaconda3\\envs\\venv1\\lib\\site-packages (from langdetect->unstructured==0.14.5) (1.16.0)\n",
      "Requirement already satisfied: click in c:\\users\\othma\\anaconda3\\envs\\venv1\\lib\\site-packages (from nltk->unstructured==0.14.5) (8.1.7)\n",
      "Requirement already satisfied: joblib in c:\\users\\othma\\anaconda3\\envs\\venv1\\lib\\site-packages (from nltk->unstructured==0.14.5) (1.4.2)\n",
      "Requirement already satisfied: cryptography>=36.0.0 in c:\\users\\othma\\anaconda3\\envs\\venv1\\lib\\site-packages (from pdfminer.six->unstructured[pdf]==0.14.5) (43.0.0)\n",
      "Requirement already satisfied: Deprecated in c:\\users\\othma\\anaconda3\\envs\\venv1\\lib\\site-packages (from pikepdf->unstructured[pdf]==0.14.5) (1.2.14)\n",
      "Requirement already satisfied: threadpoolctl>=3.1.0 in c:\\users\\othma\\anaconda3\\envs\\venv1\\lib\\site-packages (from scikit-learn->sentence-transformers==3.0.1) (3.5.0)\n",
      "Requirement already satisfied: deepdiff>=6.0 in c:\\users\\othma\\anaconda3\\envs\\venv1\\lib\\site-packages (from unstructured-client->unstructured==0.14.5) (7.0.1)\n",
      "Requirement already satisfied: httpx>=0.27.0 in c:\\users\\othma\\anaconda3\\envs\\venv1\\lib\\site-packages (from unstructured-client->unstructured==0.14.5) (0.27.0)\n",
      "Requirement already satisfied: jsonpath-python>=1.0.6 in c:\\users\\othma\\anaconda3\\envs\\venv1\\lib\\site-packages (from unstructured-client->unstructured==0.14.5) (1.0.6)\n",
      "Requirement already satisfied: mypy-extensions>=1.0.0 in c:\\users\\othma\\anaconda3\\envs\\venv1\\lib\\site-packages (from unstructured-client->unstructured==0.14.5) (1.0.0)\n",
      "Requirement already satisfied: nest-asyncio>=1.6.0 in c:\\users\\othma\\anaconda3\\envs\\venv1\\lib\\site-packages (from unstructured-client->unstructured==0.14.5) (1.6.0)\n",
      "Requirement already satisfied: python-dateutil>=2.8.2 in c:\\users\\othma\\anaconda3\\envs\\venv1\\lib\\site-packages (from unstructured-client->unstructured==0.14.5) (2.9.0.post0)\n",
      "Requirement already satisfied: requests-toolbelt>=1.0.0 in c:\\users\\othma\\anaconda3\\envs\\venv1\\lib\\site-packages (from unstructured-client->unstructured==0.14.5) (1.0.0)\n",
      "Requirement already satisfied: cffi>=1.12 in c:\\users\\othma\\anaconda3\\envs\\venv1\\lib\\site-packages (from cryptography>=36.0.0->pdfminer.six->unstructured[pdf]==0.14.5) (1.16.0)\n",
      "Requirement already satisfied: ordered-set<4.2.0,>=4.1.0 in c:\\users\\othma\\anaconda3\\envs\\venv1\\lib\\site-packages (from deepdiff>=6.0->unstructured-client->unstructured==0.14.5) (4.1.0)\n",
      "Requirement already satisfied: googleapis-common-protos<2.0.dev0,>=1.56.2 in c:\\users\\othma\\anaconda3\\envs\\venv1\\lib\\site-packages (from google-api-core!=2.0.*,!=2.1.*,!=2.10.*,!=2.2.*,!=2.3.*,!=2.4.*,!=2.5.*,!=2.6.*,!=2.7.*,!=2.8.*,!=2.9.*,<3.0.0dev,>=1.34.1->google-api-core[grpc]!=2.0.*,!=2.1.*,!=2.10.*,!=2.2.*,!=2.3.*,!=2.4.*,!=2.5.*,!=2.6.*,!=2.7.*,!=2.8.*,!=2.9.*,<3.0.0dev,>=1.34.1->google-cloud-vision->unstructured[pdf]==0.14.5) (1.63.2)\n",
      "Requirement already satisfied: grpcio<2.0dev,>=1.33.2 in c:\\users\\othma\\anaconda3\\envs\\venv1\\lib\\site-packages (from google-api-core[grpc]!=2.0.*,!=2.1.*,!=2.10.*,!=2.2.*,!=2.3.*,!=2.4.*,!=2.5.*,!=2.6.*,!=2.7.*,!=2.8.*,!=2.9.*,<3.0.0dev,>=1.34.1->google-cloud-vision->unstructured[pdf]==0.14.5) (1.65.4)\n",
      "Requirement already satisfied: grpcio-status<2.0.dev0,>=1.33.2 in c:\\users\\othma\\anaconda3\\envs\\venv1\\lib\\site-packages (from google-api-core[grpc]!=2.0.*,!=2.1.*,!=2.10.*,!=2.2.*,!=2.3.*,!=2.4.*,!=2.5.*,!=2.6.*,!=2.7.*,!=2.8.*,!=2.9.*,<3.0.0dev,>=1.34.1->google-cloud-vision->unstructured[pdf]==0.14.5) (1.65.4)\n",
      "Requirement already satisfied: cachetools<6.0,>=2.0.0 in c:\\users\\othma\\anaconda3\\envs\\venv1\\lib\\site-packages (from google-auth!=2.24.0,!=2.25.0,<3.0.0dev,>=2.14.1->google-cloud-vision->unstructured[pdf]==0.14.5) (5.4.0)\n",
      "Requirement already satisfied: pyasn1-modules>=0.2.1 in c:\\users\\othma\\anaconda3\\envs\\venv1\\lib\\site-packages (from google-auth!=2.24.0,!=2.25.0,<3.0.0dev,>=2.14.1->google-cloud-vision->unstructured[pdf]==0.14.5) (0.4.0)\n",
      "Requirement already satisfied: rsa<5,>=3.1.4 in c:\\users\\othma\\anaconda3\\envs\\venv1\\lib\\site-packages (from google-auth!=2.24.0,!=2.25.0,<3.0.0dev,>=2.14.1->google-cloud-vision->unstructured[pdf]==0.14.5) (4.9)\n",
      "Requirement already satisfied: anyio in c:\\users\\othma\\anaconda3\\envs\\venv1\\lib\\site-packages (from httpx>=0.27.0->unstructured-client->unstructured==0.14.5) (4.2.0)\n",
      "Requirement already satisfied: httpcore==1.* in c:\\users\\othma\\anaconda3\\envs\\venv1\\lib\\site-packages (from httpx>=0.27.0->unstructured-client->unstructured==0.14.5) (1.0.5)\n",
      "Requirement already satisfied: sniffio in c:\\users\\othma\\anaconda3\\envs\\venv1\\lib\\site-packages (from httpx>=0.27.0->unstructured-client->unstructured==0.14.5) (1.3.0)\n",
      "Requirement already satisfied: h11<0.15,>=0.13 in c:\\users\\othma\\anaconda3\\envs\\venv1\\lib\\site-packages (from httpcore==1.*->httpx>=0.27.0->unstructured-client->unstructured==0.14.5) (0.14.0)\n",
      "Requirement already satisfied: jsonpointer>=1.9 in c:\\users\\othma\\anaconda3\\envs\\venv1\\lib\\site-packages (from jsonpatch<2.0,>=1.33->langchain-core<0.3.0,>=0.2.0->langchain-community==0.2.4) (3.0.0)\n",
      "Requirement already satisfied: antlr4-python3-runtime==4.9.* in c:\\users\\othma\\anaconda3\\envs\\venv1\\lib\\site-packages (from omegaconf>=2.0->effdet->unstructured[pdf]==0.14.5) (4.9.3)\n",
      "Requirement already satisfied: coloredlogs in c:\\users\\othma\\anaconda3\\envs\\venv1\\lib\\site-packages (from onnxruntime>=1.17.0->unstructured-inference==0.7.33->unstructured[pdf]==0.14.5) (15.0.1)\n",
      "Requirement already satisfied: flatbuffers in c:\\users\\othma\\anaconda3\\envs\\venv1\\lib\\site-packages (from onnxruntime>=1.17.0->unstructured-inference==0.7.33->unstructured[pdf]==0.14.5) (24.3.25)\n",
      "Requirement already satisfied: contourpy>=1.0.1 in c:\\users\\othma\\anaconda3\\envs\\venv1\\lib\\site-packages (from matplotlib->unstructured-inference==0.7.33->unstructured[pdf]==0.14.5) (1.2.1)\n",
      "Requirement already satisfied: cycler>=0.10 in c:\\users\\othma\\anaconda3\\envs\\venv1\\lib\\site-packages (from matplotlib->unstructured-inference==0.7.33->unstructured[pdf]==0.14.5) (0.12.1)\n",
      "Requirement already satisfied: fonttools>=4.22.0 in c:\\users\\othma\\anaconda3\\envs\\venv1\\lib\\site-packages (from matplotlib->unstructured-inference==0.7.33->unstructured[pdf]==0.14.5) (4.53.1)\n",
      "Requirement already satisfied: kiwisolver>=1.3.1 in c:\\users\\othma\\anaconda3\\envs\\venv1\\lib\\site-packages (from matplotlib->unstructured-inference==0.7.33->unstructured[pdf]==0.14.5) (1.4.5)\n",
      "Requirement already satisfied: pyparsing>=2.3.1 in c:\\users\\othma\\anaconda3\\envs\\venv1\\lib\\site-packages (from matplotlib->unstructured-inference==0.7.33->unstructured[pdf]==0.14.5) (3.1.2)\n",
      "Requirement already satisfied: MarkupSafe>=2.0 in c:\\users\\othma\\anaconda3\\envs\\venv1\\lib\\site-packages (from jinja2->torch>=1.11.0->sentence-transformers==3.0.1) (2.1.3)\n",
      "Requirement already satisfied: pandas in c:\\users\\othma\\anaconda3\\envs\\venv1\\lib\\site-packages (from layoutparser->unstructured-inference==0.7.33->unstructured[pdf]==0.14.5) (2.2.2)\n",
      "Requirement already satisfied: iopath in c:\\users\\othma\\anaconda3\\envs\\venv1\\lib\\site-packages (from layoutparser->unstructured-inference==0.7.33->unstructured[pdf]==0.14.5) (0.1.10)\n",
      "Requirement already satisfied: pdfplumber in c:\\users\\othma\\anaconda3\\envs\\venv1\\lib\\site-packages (from layoutparser->unstructured-inference==0.7.33->unstructured[pdf]==0.14.5) (0.11.3)\n",
      "Requirement already satisfied: mpmath<1.4,>=1.1.0 in c:\\users\\othma\\anaconda3\\envs\\venv1\\lib\\site-packages (from sympy->torch>=1.11.0->sentence-transformers==3.0.1) (1.3.0)\n",
      "Requirement already satisfied: pycparser in c:\\users\\othma\\anaconda3\\envs\\venv1\\lib\\site-packages (from cffi>=1.12->cryptography>=36.0.0->pdfminer.six->unstructured[pdf]==0.14.5) (2.21)\n",
      "Requirement already satisfied: pyasn1<0.7.0,>=0.4.6 in c:\\users\\othma\\anaconda3\\envs\\venv1\\lib\\site-packages (from pyasn1-modules>=0.2.1->google-auth!=2.24.0,!=2.25.0,<3.0.0dev,>=2.14.1->google-cloud-vision->unstructured[pdf]==0.14.5) (0.6.0)\n",
      "Requirement already satisfied: humanfriendly>=9.1 in c:\\users\\othma\\anaconda3\\envs\\venv1\\lib\\site-packages (from coloredlogs->onnxruntime>=1.17.0->unstructured-inference==0.7.33->unstructured[pdf]==0.14.5) (10.0)\n",
      "Requirement already satisfied: portalocker in c:\\users\\othma\\anaconda3\\envs\\venv1\\lib\\site-packages (from iopath->layoutparser->unstructured-inference==0.7.33->unstructured[pdf]==0.14.5) (2.10.1)\n",
      "Requirement already satisfied: pytz>=2020.1 in c:\\users\\othma\\anaconda3\\envs\\venv1\\lib\\site-packages (from pandas->layoutparser->unstructured-inference==0.7.33->unstructured[pdf]==0.14.5) (2024.1)\n",
      "Requirement already satisfied: tzdata>=2022.7 in c:\\users\\othma\\anaconda3\\envs\\venv1\\lib\\site-packages (from pandas->layoutparser->unstructured-inference==0.7.33->unstructured[pdf]==0.14.5) (2024.1)\n",
      "Requirement already satisfied: pypdfium2>=4.18.0 in c:\\users\\othma\\anaconda3\\envs\\venv1\\lib\\site-packages (from pdfplumber->layoutparser->unstructured-inference==0.7.33->unstructured[pdf]==0.14.5) (4.30.0)\n",
      "Requirement already satisfied: pyreadline3 in c:\\users\\othma\\anaconda3\\envs\\venv1\\lib\\site-packages (from humanfriendly>=9.1->coloredlogs->onnxruntime>=1.17.0->unstructured-inference==0.7.33->unstructured[pdf]==0.14.5) (3.4.1)\n",
      "Requirement already satisfied: pywin32>=226 in c:\\users\\othma\\anaconda3\\envs\\venv1\\lib\\site-packages (from portalocker->iopath->layoutparser->unstructured-inference==0.7.33->unstructured[pdf]==0.14.5) (305.1)\n"
     ]
    }
   ],
   "source": [
    "# installing the required libraries\n",
    "!pip install langchain-community==0.2.4 langchain==0.2.3 faiss-cpu==1.8.0 unstructured==0.14.5 unstructured[pdf]==0.14.5 transformers==4.41.2 sentence-transformers==3.0.1"
   ]
  },
  {
   "cell_type": "code",
   "execution_count": 2,
   "id": "941f0384",
   "metadata": {},
   "outputs": [],
   "source": [
    "# loading the document\n",
    "from langchain_community.document_loaders import UnstructuredFileLoader\n",
    "\n",
    "file_path = \"C:/Users/othma/Bureau/My project/3.5. Contrat d_inscription - M2, SAMIH, Othman - signed (2).pdf\"\n",
    "loader = UnstructuredFileLoader(file_path)\n",
    "data = loader.load()"
   ]
  },
  {
   "cell_type": "code",
   "execution_count": 3,
   "id": "89e1ba8d",
   "metadata": {},
   "outputs": [],
   "source": [
    "# spliting the document into chunks\n",
    "from langchain_text_splitters import RecursiveCharacterTextSplitter\n",
    "\n",
    "text_splitter = RecursiveCharacterTextSplitter(\n",
    "    chunk_size=1000, chunk_overlap=200, add_start_index=True\n",
    ")\n",
    "all_splits = text_splitter.split_documents(data)"
   ]
  },
  {
   "cell_type": "code",
   "execution_count": 4,
   "id": "3fa3b73c",
   "metadata": {},
   "outputs": [
    {
     "name": "stderr",
     "output_type": "stream",
     "text": [
      "C:\\Users\\othma\\anaconda3\\envs\\venv1\\Lib\\site-packages\\sentence_transformers\\cross_encoder\\CrossEncoder.py:11: TqdmWarning: IProgress not found. Please update jupyter and ipywidgets. See https://ipywidgets.readthedocs.io/en/stable/user_install.html\n",
      "  from tqdm.autonotebook import tqdm, trange\n",
      "C:\\Users\\othma\\anaconda3\\envs\\venv1\\Lib\\site-packages\\huggingface_hub\\file_download.py:1150: FutureWarning: `resume_download` is deprecated and will be removed in version 1.0.0. Downloads always resume when possible. If you want to force a new download, use `force_download=True`.\n",
      "  warnings.warn(\n"
     ]
    }
   ],
   "source": [
    "# loading the embeddings model\n",
    "from langchain_huggingface import HuggingFaceEmbeddings\n",
    "\n",
    "embeddings_model = HuggingFaceEmbeddings()"
   ]
  },
  {
   "cell_type": "code",
   "execution_count": 5,
   "id": "eb0d7581",
   "metadata": {},
   "outputs": [],
   "source": [
    "# storing the embeddings in the vector database\n",
    "from langchain_community.vectorstores import FAISS\n",
    "\n",
    "vectorstore = FAISS.from_documents(all_splits, embeddings_model)"
   ]
  },
  {
   "cell_type": "code",
   "execution_count": 6,
   "id": "fa152e4a",
   "metadata": {},
   "outputs": [],
   "source": [
    "# retreiving the relevant chunks embeddings\n",
    "retriever = vectorstore.as_retriever(search_type=\"similarity\", search_kwargs={\"k\": 6})"
   ]
  },
  {
   "cell_type": "code",
   "execution_count": 7,
   "id": "09e7b8bd",
   "metadata": {},
   "outputs": [],
   "source": [
    "# loading the Gemma2 model\n",
    "from langchain_ollama.llms import OllamaLLM\n",
    "\n",
    "llm = OllamaLLM(model=\"gemma2:2b\")"
   ]
  },
  {
   "cell_type": "code",
   "execution_count": 8,
   "id": "e93d5e35",
   "metadata": {},
   "outputs": [],
   "source": [
    "# getting the model's response\n",
    "from langchain.chains import create_retrieval_chain\n",
    "from langchain.chains.combine_documents import create_stuff_documents_chain\n",
    "from langchain_core.prompts import ChatPromptTemplate\n",
    "\n",
    "system_prompt = (\n",
    "    \"You are an assistant for question-answering tasks. \"\n",
    "    \"Use the following pieces of retrieved context to answer \"\n",
    "    \"the question. If you don't know the answer, say that you \"\n",
    "    \"don't know. Use three sentences maximum and keep the \"\n",
    "    \"answer concise.\"\n",
    "    \"\\n\\n\"\n",
    "    \"{context}\"\n",
    ")\n",
    "\n",
    "prompt = ChatPromptTemplate.from_messages(\n",
    "    [\n",
    "        (\"system\", system_prompt),\n",
    "        (\"human\", \"{input}\"),\n",
    "    ]\n",
    ")\n",
    "\n",
    "\n",
    "question_answer_chain = create_stuff_documents_chain(llm, prompt)\n",
    "rag_chain = create_retrieval_chain(retriever, question_answer_chain)"
   ]
  },
  {
   "cell_type": "code",
   "execution_count": 15,
   "id": "950a301f",
   "metadata": {},
   "outputs": [
    {
     "name": "stdout",
     "output_type": "stream",
     "text": [
      "If you are denied a student visa, the non-refundable fees will not be reimbursed, but you have options to follow e-learning courses, delay your integration, or apply for sponsorship from another eligible person.  \n",
      "\n"
     ]
    }
   ],
   "source": [
    "response = rag_chain.invoke({\"input\": \"En cas de refus de visa?\"})\n",
    "print(response[\"answer\"])"
   ]
  },
  {
   "cell_type": "code",
   "execution_count": null,
   "id": "d4d86afd-0b12-470c-aa7a-a588b22ba1bb",
   "metadata": {},
   "outputs": [],
   "source": []
  }
 ],
 "metadata": {
  "kernelspec": {
   "display_name": "Python 3 (ipykernel)",
   "language": "python",
   "name": "python3"
  },
  "language_info": {
   "codemirror_mode": {
    "name": "ipython",
    "version": 3
   },
   "file_extension": ".py",
   "mimetype": "text/x-python",
   "name": "python",
   "nbconvert_exporter": "python",
   "pygments_lexer": "ipython3",
   "version": "3.12.5"
  }
 },
 "nbformat": 4,
 "nbformat_minor": 5
}
